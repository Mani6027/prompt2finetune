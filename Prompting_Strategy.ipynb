{
  "cells": [
    {
      "cell_type": "markdown",
      "metadata": {
        "colab_type": "text",
        "id": "view-in-github"
      },
      "source": [
        "<a href=\"https://colab.research.google.com/github/kissflow/prompt2finetune/blob/main/Prompting_Strategy.ipynb\" target=\"_parent\"><img src=\"https://colab.research.google.com/assets/colab-badge.svg\" alt=\"Open In Colab\"/></a>"
      ]
    },
    {
      "cell_type": "markdown",
      "metadata": {
        "id": "ub0NTGA6uYuV"
      },
      "source": [
        "## Setup"
      ]
    },
    {
      "cell_type": "code",
      "execution_count": 14,
      "metadata": {
        "id": "55xgFPWJubs3"
      },
      "outputs": [],
      "source": [
        "import os\n",
        "from openai import OpenAI\n",
        "from google.colab import userdata\n",
        "\n",
        "OPENAI_API_KEY = userdata.get('OPENAI_API_KEY')\n",
        "\n",
        "\n",
        "# Make sure you have set the OPENAI_API_KEY environment variable\n",
        "# For Colab, you can use the \"🔑\" icon on the left panel to add your API key as a secret.\n",
        "# Name the secret OPENAI_API_KEY.\n",
        "# If you are running this outside of Colab, you can set it as an environment variable\n",
        "# in your terminal: export OPENAI_API_KEY='your-api-key'\n",
        "# Or you can uncomment the line below and replace 'your-api-key' with your actual key:\n",
        "# os.environ['OPENAI_API_KEY'] = 'your-api-key'\n",
        "\n",
        "client = OpenAI(\n",
        "    # This is the default and can be omitted\n",
        "    api_key= userdata.get('OPENAI_API_KEY'),\n",
        ")\n",
        "\n",
        "model = \"gpt-4.1-mini-2025-04-14\" #\"gpt-3.5-turbo\"\n",
        "\n",
        "def generate_response(prompt, model=model, max_tokens=150):\n",
        "    \"\"\"\n",
        "    Generates a response from the OpenAI API.\n",
        "\n",
        "    Args:\n",
        "        prompt: The input prompt for the model.\n",
        "        model: The OpenAI model to use (default: \"gpt-3.5-turbo\").\n",
        "        max_tokens: The maximum number of tokens in the generated response.\n",
        "\n",
        "    Returns:\n",
        "        The text of the generated response.\n",
        "    \"\"\"\n",
        "    try:\n",
        "        response = client.chat.completions.create(\n",
        "            model=model,\n",
        "            messages=[\n",
        "                {\"role\": \"user\", \"content\": prompt}\n",
        "            ],\n",
        "            max_tokens=max_tokens,\n",
        "            temperature=0.7, # You can adjust the temperature\n",
        "        )\n",
        "        return response.choices[0].message.content.strip()\n",
        "    except Exception as e:\n",
        "        return f\"Error generating response: {e}\""
      ]
    },
    {
      "cell_type": "code",
      "execution_count": null,
      "metadata": {},
      "outputs": [],
      "source": [
        "# Product Reviews for Examples\n",
        "POSITIVE_REVIEW = \"\"\"This vacuum cleaner is amazing! It's lightweight, powerful, and the battery lasts a long time. I was able to clean my entire house on a single charge. The attachments are also very useful for getting into tight spaces. Highly recommended!\"\"\"\n",
        "\n",
        "NEGATIVE_REVIEW = \"\"\"I'm very disappointed with this vacuum cleaner. It's heavy and difficult to maneuver around furniture. The battery dies after just 15 minutes of use, which is nowhere near enough to clean even one room. The suction power is weak and it struggles with pet hair. The attachments keep falling off during use. Would not recommend this product.\"\"\"\n",
        "\n",
        "NEUTRAL_REVIEW = \"\"\"This vacuum cleaner has both good and bad points. On the positive side, it's relatively lightweight and the attachments work well for corners. However, the battery life is average - it lasts about 30 minutes, which is enough for a small apartment but not a large house. The suction power is decent for daily cleaning but struggles with deep-pile carpets. It's an okay product for the price, but there might be better options available.\"\"\"\n",
        "\n",
        "# For consistency with existing examples\n",
        "PRODUCT_REVIEW = POSITIVE_REVIEW\n"
      ]
    },
    {
      "cell_type": "markdown",
      "metadata": {},
      "source": [
        "## Zero-Shot Prompting\n"
      ]
    },
    {
      "cell_type": "markdown",
      "metadata": {
        "id": "f60ba779"
      },
      "source": []
    },
    {
      "cell_type": "code",
      "execution_count": null,
      "metadata": {
        "colab": {
          "base_uri": "https://localhost:8080/"
        },
        "id": "73b82b63",
        "outputId": "28217a00-9413-4db6-84e9-8fd1a5c76a24"
      },
      "outputs": [
        {
          "name": "stdout",
          "output_type": "stream",
          "text": [
            "Zero-Shot Response:\n",
            "The vacuum cleaner is lightweight, powerful, and has a long-lasting battery that allows cleaning the entire house on one charge. Its attachments are effective for tight spaces. Overall, it is highly recommended.\n"
          ]
        }
      ],
      "source": [
        "# Real-world example: Summarize product reviews with zero-shot prompting.\n",
        "def test_zero_shot(review, review_type):\n",
        "    prompt = f\"\"\"\n",
        "Summarize the following product review:\n",
        "\n",
        "Review: {review}\n",
        "\"\"\"\n",
        "    response = generate_response(prompt)\n",
        "    print(f\"Zero-Shot Response ({review_type}):\")\n",
        "    print(response)\n",
        "    print(\"-\" * 50)\n",
        "\n",
        "# Test with all three review types\n",
        "test_zero_shot(POSITIVE_REVIEW, \"Positive\")\n",
        "test_zero_shot(NEGATIVE_REVIEW, \"Negative\") \n",
        "test_zero_shot(NEUTRAL_REVIEW, \"Neutral\")"
      ]
    },
    {
      "cell_type": "markdown",
      "metadata": {},
      "source": [
        "### Zero-Shot Prompting Description\n",
        "\n",
        "**What it is:** Zero-shot prompting involves giving the model a task without providing any examples or demonstrations. The model relies entirely on its pre-training knowledge to understand and complete the task. This is the most basic form of prompting where you simply describe what you want the model to do.\n",
        "\n",
        "**When to use:** Zero-shot prompting works best for simple, well-defined tasks where the model has strong general knowledge from its training data. It's ideal when you need quick results without spending time on prompt engineering or when dealing with common tasks like basic summarization, translation, or simple Q&A.\n",
        "\n",
        "**Pros:** The main advantages include quick setup with minimal token usage, straightforward implementation that doesn't require example selection, and fast execution since there's only one API call. It's also very flexible and can handle a wide variety of tasks without modification.\n",
        "\n",
        "**Cons:** The primary limitations are less reliable performance on complex or domain-specific tasks, inconsistent output format that may require post-processing, and lower accuracy compared to more sophisticated prompting strategies. The model may also produce unexpected results if the task is ambiguous.\n",
        "\n",
        "**Best for:** Common tasks like basic summarization, translation, simple Q&A, general knowledge questions, and straightforward text processing. It works particularly well when the task is clearly defined and the model has strong prior knowledge about the domain.\n",
        "\n",
        "**Note:** Zero-shot prompting works best with clear, unambiguous instructions. The quality of results depends heavily on how well you can describe the task in natural language.\n"
      ]
    },
    {
      "cell_type": "markdown",
      "metadata": {
        "id": "f1395a52"
      },
      "source": [
        "## Few-Shot Prompting"
      ]
    },
    {
      "cell_type": "code",
      "execution_count": null,
      "metadata": {
        "colab": {
          "base_uri": "https://localhost:8080/"
        },
        "id": "810fc3ef",
        "outputId": "c6bd65af-a2e1-4e8f-86a0-70552fac4d85"
      },
      "outputs": [
        {
          "name": "stdout",
          "output_type": "stream",
          "text": [
            "Few-Shot Response:\n",
            "Lightweight, powerful vacuum with long battery life and useful attachments; highly recommended.\n"
          ]
        }
      ],
      "source": [
        "# Real-world example: Summarize product reviews with few-shot examples.\n",
        "def test_few_shot(review, review_type):\n",
        "    few_shot_prompt = f\"\"\"\n",
        "Summarize the following product reviews:\n",
        "\n",
        "Review: This phone is terrible. The battery dies in an hour and the camera is blurry.\n",
        "Summary: Poor battery life and camera quality.\n",
        "\n",
        "Review: I love this laptop! It's fast, lightweight, and the screen is stunning.\n",
        "Summary: Fast, lightweight, and excellent display.\n",
        "\n",
        "Review: {review}\n",
        "Summary:\n",
        "\"\"\"\n",
        "    response = generate_response(few_shot_prompt)\n",
        "    print(f\"Few-Shot Response ({review_type}):\")\n",
        "    print(response)\n",
        "    print(\"-\" * 50)\n",
        "\n",
        "# Test with all three review types\n",
        "test_few_shot(POSITIVE_REVIEW, \"Positive\")\n",
        "test_few_shot(NEGATIVE_REVIEW, \"Negative\")\n",
        "test_few_shot(NEUTRAL_REVIEW, \"Neutral\")"
      ]
    },
    {
      "cell_type": "markdown",
      "metadata": {},
      "source": [
        "### Few-Shot Prompting Description\n",
        "\n",
        "**What it is:** Few-shot prompting involves providing the model with 2-5 example input-output pairs before asking it to complete a similar task. These examples serve as demonstrations that guide the model's behavior and help it understand the expected format, style, and approach for the specific task.\n",
        "\n",
        "**When to use:** Few-shot prompting is ideal when you need specific output format or style, working with domain-specific patterns, or when the model needs guidance on how to approach a particular type of task. It's particularly effective when you have representative examples that clearly show the desired input-output relationship.\n",
        "\n",
        "**Pros:** The main advantages include better accuracy and consistency compared to zero-shot, helps the model understand exact requirements through concrete examples, and provides more reliable output formatting. It's also relatively simple to implement and doesn't require extensive prompt engineering.\n",
        "\n",
        "**Cons:** The primary limitations include higher token usage due to the included examples, requires careful selection of representative examples, and the quality of results depends heavily on the relevance and quality of the provided examples. Poor examples can actually hurt performance.\n",
        "\n",
        "**Best for:** Formatting tasks, classification problems, domain-specific outputs, maintaining consistent tone or style, and tasks where the pattern is clear but the model needs specific guidance. It works well for tasks like sentiment analysis, text classification, and structured data extraction.\n",
        "\n",
        "**Note:** The quality and relevance of examples directly impact results. Choose examples that are representative of the task and clearly demonstrate the desired input-output relationship. Avoid examples that are too similar to each other or that might confuse the model.\n"
      ]
    },
    {
      "cell_type": "markdown",
      "metadata": {
        "id": "tYqFe1-ptNT5"
      },
      "source": [
        "## Self Reflexion"
      ]
    },
    {
      "cell_type": "code",
      "execution_count": null,
      "metadata": {
        "colab": {
          "base_uri": "https://localhost:8080/"
        },
        "id": "MdQvV1OptXGe",
        "outputId": "f54f85b1-f919-4b46-bebb-6a0d9c25b4d0"
      },
      "outputs": [
        {
          "name": "stdout",
          "output_type": "stream",
          "text": [
            "Initial Reflexion Response:\n",
            "The vacuum cleaner is lightweight, powerful, and has a long-lasting battery that can clean an entire house on one charge. Its useful attachments help reach tight spaces. Highly recommended.\n",
            "\n",
            "Reflection on Initial Response:\n",
            "The initial summary does a good job capturing the main positive aspects mentioned in the review: the vacuum cleaner being lightweight, powerful, having a long-lasting battery capable of cleaning an entire house on one charge, and the usefulness of the attachments for tight spaces. It also includes the strong recommendation from the reviewer.\n",
            "\n",
            "However, the summary could be improved by incorporating the sense of enthusiasm and specific praise about the battery life (\"I was able to clean my entire house on a single charge\") and explicitly mentioning that the vacuum is easy to use due to its lightweight design. Additionally, mentioning the variety or versatility of attachments could add clarity.\n",
            "\n",
            "Suggested improved summary:\n",
            "\n",
            "\"This vacuum cleaner is lightweight and easy to maneuver, yet powerful enough to clean an entire house on a single long-lasting\n",
            "\n",
            "Refined Reflexion Response:\n",
            "This vacuum cleaner is lightweight and easy to maneuver, making it simple to use throughout the home. It is powerful and features a long-lasting battery that allowed the reviewer to clean their entire house on a single charge. Additionally, the vacuum comes with a variety of versatile attachments that are especially useful for reaching tight spaces. Overall, the reviewer highly recommends this efficient and user-friendly vacuum cleaner.\n"
          ]
        }
      ],
      "source": [
        "# Real-world example: Summarize a product review using Reflexion (using positive review for complexity).\n",
        "\n",
        "# Initial prompt\n",
        "initial_review_prompt = f\"Summarize the following product review:\\n\\n{POSITIVE_REVIEW}\"\n",
        "\n",
        "initial_review_response = generate_response(initial_review_prompt)\n",
        "print(\"Initial Reflexion Response:\")\n",
        "print(initial_review_response)\n",
        "\n",
        "# Reflection prompt to improve the summary\n",
        "reflection_review_prompt = f\"\"\"\n",
        "Based on the following product review and the initial summary:\n",
        "\n",
        "Review: {POSITIVE_REVIEW}\n",
        "\n",
        "Initial Summary: {initial_review_response}\n",
        "\n",
        "Critique the initial summary. Does it capture all the key positive aspects mentioned in the review (lightweight, powerful, long battery life, useful attachments, highly recommended)? Suggest improvements to make the summary more comprehensive and accurate.\n",
        "\"\"\"\n",
        "\n",
        "reflection_on_review = generate_response(reflection_review_prompt)\n",
        "print(\"\\nReflection on Initial Response:\")\n",
        "print(reflection_on_review)\n",
        "\n",
        "# Refined prompt incorporating the reflection\n",
        "refined_review_prompt = f\"\"\"\n",
        "Based on the following product review and the critique of the initial summary, provide a refined and comprehensive summary:\n",
        "\n",
        "Review: {POSITIVE_REVIEW}\n",
        "\n",
        "Critique: {reflection_on_review}\n",
        "\n",
        "Refined Summary:\n",
        "\"\"\"\n",
        "\n",
        "refined_review_response = generate_response(refined_review_prompt)\n",
        "print(\"\\nRefined Reflexion Response:\")\n",
        "print(refined_review_response)"
      ]
    },
    {
      "cell_type": "markdown",
      "metadata": {},
      "source": [
        "### Self Reflexion Description\n",
        "\n",
        "**What it is:** Self Reflexion is a multi-step iterative process where the model first generates an initial response, then critiques its own output, and finally produces a refined version based on the critique. This approach leverages the model's ability to evaluate and improve its own work through explicit self-reflection.\n",
        "\n",
        "**When to use:** Self Reflexion is most effective when quality improvement is critical and you're dealing with complex content that benefits from multiple perspectives. It's ideal for high-stakes content where accuracy and coherence are paramount, such as technical analysis, creative writing, or editorial tasks.\n",
        "\n",
        "**Pros:** The main advantages include significantly higher quality outputs through self-correction, the ability to catch and fix errors that might be missed in a single pass, improved coherence and consistency, and the model's ability to identify its own weaknesses and address them.\n",
        "\n",
        "**Cons:** The primary limitations include multiple API calls making it more expensive, slower execution time due to the iterative nature, and higher token usage. It also requires more complex implementation and may not always lead to improvements if the critique criteria aren't well-defined.\n",
        "\n",
        "**Best for:** High-stakes content like technical documentation, creative writing, editorial tasks, complex analysis, and any situation where the quality of the output is more important than speed or cost. It's particularly effective for tasks that benefit from multiple perspectives or iterative refinement.\n",
        "\n",
        "**Note:** Self Reflexion is most effective when the critique criteria are explicitly defined and the model is given clear guidance on what aspects to evaluate. The quality of the final output depends heavily on the effectiveness of the self-critique step.\n"
      ]
    },
    {
      "cell_type": "markdown",
      "metadata": {
        "id": "e2f0ded4"
      },
      "source": [
        "## Chain of Thought Prompting"
      ]
    },
    {
      "cell_type": "code",
      "execution_count": null,
      "metadata": {
        "colab": {
          "base_uri": "https://localhost:8080/"
        },
        "id": "rsM6s_jfsduO",
        "outputId": "825fb6fb-9443-4e9d-fef4-0e2d21905309"
      },
      "outputs": [
        {
          "name": "stdout",
          "output_type": "stream",
          "text": [
            "Chain of Thought Response:\n",
            "<thought-process> \n",
            "1. The product being reviewed is a vacuum cleaner. \n",
            "2. Positive attributes mentioned are: lightweight, powerful, long-lasting battery (able to clean entire house on one charge), and useful attachments for tight spaces. There are no negative attributes mentioned. \n",
            "3. Combining these points, the summary should highlight the vacuum cleaner's lightweight design, strong performance, excellent battery life, and versatile attachments, concluding with a positive recommendation. \n",
            "</thought-process>\n",
            "\n",
            "Summary: The vacuum cleaner is lightweight, powerful, has a long-lasting battery that can clean an entire house on one charge, and comes with useful attachments for tight spaces. It is highly recommended.\n"
          ]
        }
      ],
      "source": [
        "# Real-world example: Summarize a product review using Chain of Thought (using neutral review for balanced reasoning).\n",
        "\n",
        "chain_of_thought_prompt = f\"\"\"\n",
        "Summarize the following product review, thinking step by step:\n",
        "\n",
        "Review: {NEUTRAL_REVIEW}\n",
        "\n",
        "Let's think step by step to summarize this review.\n",
        "1. Identify the product being reviewed.\n",
        "2. List the positive and negative attributes mentioned about the product.\n",
        "3. Combine these attributes into a concise summary.\n",
        "\n",
        "Note: Write down your reasoning for each step inside <thought-process> Thoughts </thought-process> tag.\n",
        "\n",
        "Summary:\n",
        "\"\"\"\n",
        "\n",
        "chain_of_thought_response = generate_response(chain_of_thought_prompt, max_tokens=300) # Increased max_tokens for detailed steps\n",
        "print(\"Chain of Thought Response:\")\n",
        "print(chain_of_thought_response)"
      ]
    },
    {
      "cell_type": "markdown",
      "metadata": {},
      "source": [
        "### Chain of Thought Prompting Description\n",
        "\n",
        "**What it is:** Chain of Thought prompting requires the model to explicitly show its step-by-step reasoning process before providing the final answer. The model breaks down complex problems into smaller, manageable steps and shows its thinking process, making the reasoning transparent and traceable.\n",
        "\n",
        "**When to use:** Chain of Thought is most effective for complex reasoning tasks, mathematical problems, multi-step logic problems, debugging tasks, and any situation where the reasoning process is as important as the final answer. It's particularly useful when you need to understand how the model arrived at its conclusion.\n",
        "\n",
        "**Pros:** The main advantages include significantly better accuracy on complex tasks, transparent reasoning that allows for debugging and verification, easier identification of where the model might be going wrong, and the ability to follow the logical progression of the model's thinking.\n",
        "\n",
        "**Cons:** The primary limitations include longer outputs that consume more tokens, potentially slower processing due to the detailed reasoning, and the possibility of exposing flawed reasoning processes. It may also be overkill for simple tasks.\n",
        "\n",
        "**Best for:** Math problems, logic puzzles, code debugging, analytical reasoning, complex problem-solving, and any task where step-by-step thinking is beneficial. It's particularly effective when combined with phrases like \"Let's think step by step\" or \"Show your work.\"\n",
        "\n",
        "**Note:** Chain of Thought is particularly effective when the model is explicitly prompted to show its reasoning. The quality of the reasoning process often correlates with the accuracy of the final answer, making it a powerful tool for complex problem-solving.\n"
      ]
    },
    {
      "cell_type": "markdown",
      "metadata": {
        "id": "7d706558"
      },
      "source": [
        "## Tree of Thoughts Prompting"
      ]
    },
    {
      "cell_type": "code",
      "execution_count": null,
      "metadata": {
        "colab": {
          "base_uri": "https://localhost:8080/"
        },
        "id": "784d307c",
        "outputId": "ddc2cce6-8f83-4c57-fe81-a12ec0845a9d"
      },
      "outputs": [
        {
          "name": "stdout",
          "output_type": "stream",
          "text": [
            "Initial Thought: When summarizing a product review, it’s important to capture the overall sentiment—whether positive, negative, or mixed—while highlighting key points such as the product’s main features, performance, usability, and any common praises or complaints mentioned by the reviewer. This approach ensures the summary provides a clear and balanced snapshot for potential buyers.\n",
            "\n",
            "Thoughts after step 1:\n",
            "  Thought 1: Certainly! Expanding on the initial thought, here are several alternative approaches for summarizing a product review, each emphasizing different aspects or techniques to provide diverse perspectives and utility for potential buyers:\n",
            "  Thought 2: 1. **Feature-Centric Summary**\n",
            "  Thought 3: Focus primarily on the specific features of the product mentioned in the review, detailing how each feature performed or was perceived. This approach is useful when potential buyers are interested in particular functionalities rather than an overall sentiment.\n",
            "  Thought 4: *Example:* \"The reviewer praised the battery life and camera quality but found the touchscreen less responsive than expected.\"\n",
            "  Thought 5: 2. **Problem-Solution Summary**\n",
            "  Thought 6: Identify any problems or issues raised by the reviewer and note whether they found solutions or workarounds. This method can help potential buyers understand potential\n",
            "\n",
            "Thoughts after step 2:\n",
            "  Thought 1: Certainly! Expanding on the initial thought, here are several alternative approaches for summarizing a product review, each emphasizing different aspects or techniques to provide diverse perspectives and utility for potential buyers:\n",
            "  Thought 2: 1. **Feature-Focused Summary:**\n",
            "  Thought 3: Highlight the key features of the product mentioned in the review, emphasizing how well each feature performs according to the reviewer. This approach helps readers quickly understand the strengths and weaknesses related to specific product attributes.\n",
            "  Thought 4: 2. **Sentiment-Based Summary:**\n",
            "  Thought 5: Extract and distill the overall sentiment of the review—positive, negative, or neutral—while providing examples or quotes that illustrate the tone. This method is useful for readers who want a quick emotional gauge of the product experience.\n",
            "  Thought 6: 3. **Pros and Cons List:**\n",
            "  Thought 7: Certainly! Building upon the **Feature-Centric Summary** approach for summarizing product reviews, here are several alternative approaches, each focusing on different aspects or techniques to create concise and informative summaries:\n",
            "  Thought 8: ---\n",
            "  Thought 9: ### 1. Feature-Centric Summary (Original)\n",
            "  Thought 10: - Focus on key product features mentioned in the reviews (e.g., battery life, screen quality, durability).\n",
            "  Thought 11: - Summarize opinions and sentiments related to each feature.\n",
            "  Thought 12: - Example: \"Users praise the long battery life and vibrant display but express concerns over the fragile build.\"\n",
            "  Thought 13: ---\n",
            "  Thought 14: ### 2. Sentiment-Centric Summary\n",
            "  Thought 15: - Aggregate overall sentiment (positive, neutral, negative) expressed in reviews.\n",
            "  Thought 16: - Highlight the general mood or attitude customers have toward the product.\n",
            "  Thought 17: - Example: \"Most reviews\n",
            "  Thought 18: Certainly! Building on the idea of focusing on specific product features in a review summary, here are several alternative approaches that can be employed to summarize product reviews, each tailored to different user needs or contexts:\n",
            "  Thought 19: 1. **Sentiment-Centric Summary**\n",
            "  Thought 20: Instead of detailing individual features, this approach emphasizes the overall positive, neutral, or negative sentiment expressed in the review. It captures the general feeling and satisfaction level of the reviewer, which is helpful for buyers who want a quick sense of whether the product is liked or disliked without diving into specifics.\n",
            "  Thought 21: 2. **Use-Case or Scenario-Based Summary**\n",
            "  Thought 22: Summarize the review by highlighting how the product performed in particular use cases or environments described by the reviewer. For example, a camera review\n",
            "  Thought 23: Certainly! Here are several alternative approaches to summarizing a product review based on the given example:\n",
            "  Thought 24: 1. **Pros and Cons Format:**\n",
            "  Thought 25: - *Pros:* Excellent battery life, high-quality camera\n",
            "  Thought 26: - *Cons:* Touchscreen responsiveness below expectations\n",
            "  Thought 27: 2. **Balanced Sentence Summary:**\n",
            "  Thought 28: The reviewer appreciated the device’s long-lasting battery and impressive camera performance, though they were disappointed by the touchscreen’s sluggish response.\n",
            "  Thought 29: 3. **Feature-by-Feature Breakdown:**\n",
            "  Thought 30: The battery life stood out as a strong point, providing extended usage without frequent recharging. The camera delivered sharp and vibrant images, enhancing photography experiences. However, the touchscreen did not respond as quickly or accurately as the reviewer had hoped.\n",
            "  Thought 31: 4. **Emotional Tone\n",
            "  Thought 32: Certainly! Building on the **Problem-Solution Summary** approach for summarizing a product review, here are several alternative approaches that can provide different perspectives or highlight various aspects of the review:\n",
            "  Thought 33: 1. **Feature-Benefit Summary**\n",
            "  Thought 34: - Focus on key product features mentioned in the review and the benefits they provide to the user.\n",
            "  Thought 35: - For example, instead of centering on problems, highlight what features stood out and why they are valuable.\n",
            "  Thought 36: 2. **Pros and Cons Summary**\n",
            "  Thought 37: - Divide the summary into two sections: positive aspects and negative aspects noted in the review.\n",
            "  Thought 38: - This balanced approach helps readers quickly assess strengths and weaknesses.\n",
            "  Thought 39: 3. **User Experience Summary**\n",
            "  Thought 40: - Emphasize the user’s overall\n",
            "  Thought 41: Certainly! Expanding on the idea of identifying problems or issues raised by a reviewer and noting if they found solutions or workarounds, here are several alternative approaches for summarizing a product review that can provide potential buyers with a well-rounded understanding:\n",
            "  Thought 42: 1. **Pros and Cons Highlighting**\n",
            "  Thought 43: Break down the review into clear pros and cons sections. Emphasize not only the problems or issues but also the positive aspects. This approach helps buyers quickly weigh the benefits against the drawbacks.\n",
            "  Thought 44: 2. **Problem-Solution Format**\n",
            "  Thought 45: Organize the summary by listing each problem mentioned followed immediately by any solutions, fixes, or workarounds the reviewer found. This format is especially useful for technical products or items that may require troubleshooting.\n",
            "  Thought 46: 3.\n",
            "\n",
            "Tree of Thoughts Simulation Result:\n",
            "Based on the original review and the various summarization approaches discussed, the best summary should concisely highlight the key positive features and the overall enthusiastic sentiment, as no negatives were mentioned. A feature-benefit style with a positive tone suits the review well.\n",
            "\n",
            "**Best Summary:**\n",
            "\n",
            "This lightweight and powerful vacuum cleaner offers long-lasting battery life, allowing a full house cleaning on a single charge. Its versatile attachments make reaching tight spaces easy, making it a highly recommended and efficient cleaning tool.\n"
          ]
        }
      ],
      "source": [
        "# Real-world example: Summarize a product review using a simulated Tree of Thoughts.\n",
        "# Note: A true Tree of Thoughts implementation is more complex and would involve\n",
        "# exploring multiple reasoning paths and evaluating them. This is a simplified simulation.\n",
        "\n",
        "def tree_of_thoughts_prompting(initial_thought_prompt, expansion_prompt, evaluation_prompt, steps=2):\n",
        "    \"\"\"\n",
        "    Simulates a basic Tree of Thoughts approach.\n",
        "\n",
        "    Args:\n",
        "        initial_thought_prompt: The initial prompt to generate a starting thought.\n",
        "        expansion_prompt: Prompt to generate subsequent thoughts based on previous ones.\n",
        "        evaluation_prompt: Prompt to evaluate the generated thoughts.\n",
        "        steps: Number of expansion steps to simulate.\n",
        "\n",
        "    Returns:\n",
        "        The evaluated best thought or a summary of the process.\n",
        "    \"\"\"\n",
        "    try:\n",
        "        thoughts = [generate_response(initial_thought_prompt)]\n",
        "        print(\"Initial Thought:\", thoughts[0])\n",
        "\n",
        "        for step in range(steps):\n",
        "            new_thoughts = []\n",
        "            for thought in thoughts:\n",
        "                expansion_response = generate_response(f\"{expansion_prompt}\\n\\nPrevious thought: {thought}\")\n",
        "                # Simple split to simulate multiple thoughts\n",
        "                expanded_thoughts = [t.strip() for t in expansion_response.split('\\n') if t.strip()]\n",
        "                new_thoughts.extend(expanded_thoughts)\n",
        "            thoughts = new_thoughts\n",
        "            print(f\"\\nThoughts after step {step + 1}:\")\n",
        "            for i, thought in enumerate(thoughts):\n",
        "                print(f\"  Thought {i+1}: {thought}\")\n",
        "\n",
        "        # Simple evaluation: Ask the model to pick the best thought or summarize\n",
        "        evaluation_response = generate_response(f\"{evaluation_prompt}\\n\\nThoughts to evaluate:\\n\" + \"\\n\".join([f\"- {t}\" for t in thoughts]))\n",
        "\n",
        "        return evaluation_response\n",
        "\n",
        "    except Exception as e:\n",
        "        return f\"An error occurred: {e}\"\n",
        "\n",
        "# Example usage with the product review summarization (using positive review - too expensive for multiple)\n",
        "initial_thought_prompt = \"Generate an initial thought about summarizing a product review.\"\n",
        "expansion_prompt = \"Expand on the following thought to generate alternative approaches for summarizing a product review.\"\n",
        "evaluation_prompt = f\"Review the following thoughts for summarizing a product review and provide the best summary based on the original review: {POSITIVE_REVIEW}\"\n",
        "\n",
        "\n",
        "tree_of_thoughts_response = tree_of_thoughts_prompting(initial_thought_prompt, expansion_prompt, evaluation_prompt, steps=2)\n",
        "print(\"\\nTree of Thoughts Simulation Result:\")\n",
        "print(tree_of_thoughts_response)"
      ]
    },
    {
      "cell_type": "markdown",
      "metadata": {},
      "source": [
        "### Tree of Thoughts Prompting Description\n",
        "\n",
        "**What it is:** Tree of Thoughts prompting explores multiple reasoning paths simultaneously, evaluates different approaches, and selects the best solution. It's like having the model brainstorm multiple solutions and then pick the most promising one, similar to how humans might approach complex problems by considering various options.\n",
        "\n",
        "**When to use:** Tree of Thoughts is ideal when multiple valid approaches exist for solving a problem, when creative problem-solving is needed, or when optimization is required. It's particularly effective for strategic planning, complex decision-making, and tasks where exploring the solution space thoroughly is beneficial.\n",
        "\n",
        "**Pros:** The main advantages include thorough exploration of the solution space, finding optimal or creative solutions that might be missed with single-path approaches, better handling of ambiguous problems, and the ability to evaluate trade-offs between different approaches.\n",
        "\n",
        "**Cons:** The primary limitations include very high cost due to multiple API calls (often 10-50x more expensive than other methods), significantly slower execution, complex implementation requirements, and the need for sophisticated evaluation mechanisms to compare different approaches.\n",
        "\n",
        "**Best for:** Strategic planning, creative brainstorming, complex optimization problems, decision-making tasks, and any situation where exploring multiple approaches is valuable. It's particularly effective for problems with no clear single solution path.\n",
        "\n",
        "**Note:** This implementation is a simplified simulation of Tree of Thoughts. Production implementations would use more sophisticated evaluation mechanisms, parallel processing, and advanced pruning strategies to manage costs while maintaining effectiveness.\n"
      ]
    },
    {
      "cell_type": "markdown",
      "metadata": {
        "id": "5c83c571"
      },
      "source": [
        "## Meta Prompting"
      ]
    },
    {
      "cell_type": "code",
      "execution_count": null,
      "metadata": {
        "colab": {
          "base_uri": "https://localhost:8080/"
        },
        "id": "00d6a430",
        "outputId": "e1680537-b6f7-4d38-f73f-a74a8a720b47"
      },
      "outputs": [
        {
          "name": "stdout",
          "output_type": "stream",
          "text": [
            "Meta Prompting Response:\n",
            "Summary: The vacuum cleaner is lightweight, powerful, with a long-lasting battery. Attachments are useful for tight spaces. Highly recommended.\n"
          ]
        }
      ],
      "source": [
        "# Real-world example: Summarize product reviews using Meta Prompting.\n",
        "def test_meta_prompting(review, review_type):\n",
        "    meta_prompt = f\"\"\"\n",
        "You are an expert in summarizing product reviews. Your goal is to provide a concise and informative summary of the given review, focusing only on the key positive and negative aspects mentioned.\n",
        "\n",
        "Here is the product review:\n",
        "Review: {review}\n",
        "\n",
        "Provide the summary in the following format:\n",
        "Summary: [Your concise summary here]\n",
        "\"\"\"\n",
        "    response = generate_response(meta_prompt)\n",
        "    print(f\"Meta Prompting Response ({review_type}):\")\n",
        "    print(response)\n",
        "    print(\"-\" * 50)\n",
        "\n",
        "# Test with all three review types\n",
        "test_meta_prompting(POSITIVE_REVIEW, \"Positive\")\n",
        "test_meta_prompting(NEGATIVE_REVIEW, \"Negative\")\n",
        "test_meta_prompting(NEUTRAL_REVIEW, \"Neutral\")"
      ]
    },
    {
      "cell_type": "markdown",
      "metadata": {},
      "source": [
        "### Meta Prompting Description\n",
        "\n",
        "**What it is:** Meta prompting assigns the model an explicit role with structured instructions and specific output format requirements. It's like giving the model a job description and clear guidelines on how to perform that job, ensuring consistent behavior across interactions and adherence to specific requirements.\n",
        "\n",
        "**When to use:** Meta prompting is most effective when you need consistent behavior across multiple interactions, have complex task requirements, or are building production systems where reliability and consistency are crucial. It's ideal for API integrations, automated systems, and any situation where the model needs to maintain a specific persona or approach.\n",
        "\n",
        "**Pros:** The main advantages include clear expectations that lead to more consistent outputs, improved task adherence through explicit role definition, better output formatting through structured instructions, and the ability to fine-tune behavior for specific use cases.\n",
        "\n",
        "**Cons:** The primary limitations include the need for careful prompt engineering to define roles effectively, potential over-constraint that might limit creativity, and the requirement to test and refine role definitions for optimal performance.\n",
        "\n",
        "**Best for:** Production systems, API integrations, specific output formats, role-based tasks, and any situation where consistency and reliability are more important than creativity. It works particularly well when combined with other strategies for production use.\n",
        "\n",
        "**Note:** Meta prompting works best when the role definition is clear and specific. The quality of results depends heavily on how well you can articulate the desired behavior and output format. It's often most effective when combined with other prompting strategies.\n"
      ]
    },
    {
      "cell_type": "markdown",
      "metadata": {},
      "source": [
        "## Strategy Comparison and Recommendations\n",
        "\n",
        "### How Different Strategies Handle Various Review Types\n",
        "\n",
        "**Positive Reviews:** All strategies perform well with positive reviews, but Self Reflexion and Chain of Thought tend to produce more nuanced and comprehensive summaries by explicitly considering multiple aspects of the product.\n",
        "\n",
        "**Negative Reviews:** Few-Shot and Meta Prompting excel with negative reviews because they can maintain consistent formatting and tone. Zero-Shot may struggle with maintaining appropriate sentiment analysis without examples.\n",
        "\n",
        "**Neutral Reviews:** Chain of Thought is particularly effective for neutral reviews as it can systematically identify both positive and negative aspects, while Tree of Thoughts can explore different ways to balance mixed feedback.\n",
        "\n",
        "### When to Choose Each Strategy\n",
        "\n",
        "**Choose Zero-Shot when:**\n",
        "- You need quick results for simple tasks\n",
        "- Token usage is a primary concern\n",
        "- The task is straightforward and well-defined\n",
        "\n",
        "**Choose Few-Shot when:**\n",
        "- You need consistent output formatting\n",
        "- Working with domain-specific content\n",
        "- You have high-quality representative examples\n",
        "\n",
        "**Choose Self Reflexion when:**\n",
        "- Quality is more important than speed/cost\n",
        "- Working with complex, high-stakes content\n",
        "- You need the highest possible output quality\n",
        "\n",
        "**Choose Chain of Thought when:**\n",
        "- The reasoning process is important\n",
        "- Working with complex analytical tasks\n",
        "- You need to understand how conclusions are reached\n",
        "\n",
        "**Choose Tree of Thoughts when:**\n",
        "- Multiple valid approaches exist\n",
        "- Creative problem-solving is needed\n",
        "- Cost is not a primary concern\n",
        "\n",
        "**Choose Meta Prompting when:**\n",
        "- Building production systems\n",
        "- Consistency across interactions is crucial\n",
        "- You need specific output formats\n",
        "\n",
        "### Trade-offs Summary\n",
        "\n",
        "| Strategy | Accuracy | Speed | Cost | Complexity | Best Use Case |\n",
        "|----------|----------|-------|------|------------|---------------|\n",
        "| Zero-Shot | Medium | Fast | Low | Low | Simple tasks |\n",
        "| Few-Shot | High | Fast | Medium | Low | Consistent formatting |\n",
        "| Self Reflexion | Very High | Slow | High | Medium | High-quality content |\n",
        "| Chain of Thought | High | Medium | Medium | Low | Complex reasoning |\n",
        "| Tree of Thoughts | Very High | Very Slow | Very High | High | Creative problems |\n",
        "| Meta Prompting | High | Fast | Low | Medium | Production systems |\n"
      ]
    }
  ],
  "metadata": {
    "colab": {
      "authorship_tag": "ABX9TyM267PsmE4RmMRLJ8hW37cD",
      "include_colab_link": true,
      "provenance": []
    },
    "kernelspec": {
      "display_name": ".venv",
      "language": "python",
      "name": "python3"
    },
    "language_info": {
      "name": "python",
      "version": "3.13.7"
    }
  },
  "nbformat": 4,
  "nbformat_minor": 0
}
