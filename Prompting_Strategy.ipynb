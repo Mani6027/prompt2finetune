{
  "nbformat": 4,
  "nbformat_minor": 0,
  "metadata": {
    "colab": {
      "provenance": [],
      "authorship_tag": "ABX9TyM267PsmE4RmMRLJ8hW37cD",
      "include_colab_link": true
    },
    "kernelspec": {
      "name": "python3",
      "display_name": "Python 3"
    },
    "language_info": {
      "name": "python"
    }
  },
  "cells": [
    {
      "cell_type": "markdown",
      "metadata": {
        "id": "view-in-github",
        "colab_type": "text"
      },
      "source": [
        "<a href=\"https://colab.research.google.com/github/kissflow/prompt2finetune/blob/main/Prompting_Strategy.ipynb\" target=\"_parent\"><img src=\"https://colab.research.google.com/assets/colab-badge.svg\" alt=\"Open In Colab\"/></a>"
      ]
    },
    {
      "cell_type": "markdown",
      "source": [
        "## Setup"
      ],
      "metadata": {
        "id": "ub0NTGA6uYuV"
      }
    },
    {
      "cell_type": "code",
      "source": [
        "import os\n",
        "from openai import OpenAI\n",
        "from google.colab import userdata\n",
        "\n",
        "OPENAI_API_KEY = userdata.get('OPENAI_API_KEY')\n",
        "\n",
        "\n",
        "# Make sure you have set the OPENAI_API_KEY environment variable\n",
        "# For Colab, you can use the \"🔑\" icon on the left panel to add your API key as a secret.\n",
        "# Name the secret OPENAI_API_KEY.\n",
        "# If you are running this outside of Colab, you can set it as an environment variable\n",
        "# in your terminal: export OPENAI_API_KEY='your-api-key'\n",
        "# Or you can uncomment the line below and replace 'your-api-key' with your actual key:\n",
        "# os.environ['OPENAI_API_KEY'] = 'your-api-key'\n",
        "\n",
        "client = OpenAI(\n",
        "    # This is the default and can be omitted\n",
        "    api_key= userdata.get('OPENAI_API_KEY'),\n",
        ")\n",
        "\n",
        "model = \"gpt-4.1-mini-2025-04-14\" #\"gpt-3.5-turbo\"\n",
        "\n",
        "def generate_response(prompt, model=model, max_tokens=150):\n",
        "    \"\"\"\n",
        "    Generates a response from the OpenAI API.\n",
        "\n",
        "    Args:\n",
        "        prompt: The input prompt for the model.\n",
        "        model: The OpenAI model to use (default: \"gpt-3.5-turbo\").\n",
        "        max_tokens: The maximum number of tokens in the generated response.\n",
        "\n",
        "    Returns:\n",
        "        The text of the generated response.\n",
        "    \"\"\"\n",
        "    try:\n",
        "        response = client.chat.completions.create(\n",
        "            model=model,\n",
        "            messages=[\n",
        "                {\"role\": \"user\", \"content\": prompt}\n",
        "            ],\n",
        "            max_tokens=max_tokens,\n",
        "            temperature=0.7, # You can adjust the temperature\n",
        "        )\n",
        "        return response.choices[0].message.content.strip()\n",
        "    except Exception as e:\n",
        "        return f\"Error generating response: {e}\""
      ],
      "metadata": {
        "id": "55xgFPWJubs3"
      },
      "execution_count": 14,
      "outputs": []
    },
    {
      "cell_type": "markdown",
      "metadata": {
        "id": "f60ba779"
      },
      "source": [
        "## Zero-Shot Prompting"
      ]
    },
    {
      "cell_type": "code",
      "metadata": {
        "colab": {
          "base_uri": "https://localhost:8080/"
        },
        "id": "73b82b63",
        "outputId": "28217a00-9413-4db6-84e9-8fd1a5c76a24"
      },
      "source": [
        "# Real-world example: Summarize a product review with zero-shot prompting.\n",
        "zero_shot_prompt = \"\"\"\n",
        "Summarize the following product review:\n",
        "\n",
        "Review: This vacuum cleaner is amazing! It's lightweight, powerful, and the battery lasts a long time. I was able to clean my entire house on a single charge. The attachments are also very useful for getting into tight spaces. Highly recommended!\n",
        "\"\"\"\n",
        "\n",
        "zero_shot_response = generate_response(zero_shot_prompt)\n",
        "print(\"Zero-Shot Response:\")\n",
        "print(zero_shot_response)"
      ],
      "execution_count": 15,
      "outputs": [
        {
          "output_type": "stream",
          "name": "stdout",
          "text": [
            "Zero-Shot Response:\n",
            "The vacuum cleaner is lightweight, powerful, and has a long-lasting battery that allows cleaning the entire house on one charge. Its attachments are effective for tight spaces. Overall, it is highly recommended.\n"
          ]
        }
      ]
    },
    {
      "cell_type": "markdown",
      "metadata": {
        "id": "f1395a52"
      },
      "source": [
        "## Few-Shot Prompting"
      ]
    },
    {
      "cell_type": "code",
      "metadata": {
        "id": "810fc3ef",
        "colab": {
          "base_uri": "https://localhost:8080/"
        },
        "outputId": "c6bd65af-a2e1-4e8f-86a0-70552fac4d85"
      },
      "source": [
        "# Real-world example: Summarize a product review with few-shot examples.\n",
        "few_shot_prompt = \"\"\"\n",
        "Summarize the following product reviews:\n",
        "\n",
        "Review: This phone is terrible. The battery dies in an hour and the camera is blurry.\n",
        "Summary: Poor battery life and camera quality.\n",
        "\n",
        "Review: I love this laptop! It's fast, lightweight, and the screen is stunning.\n",
        "Summary: Fast, lightweight, and excellent display.\n",
        "\n",
        "Review: This vacuum cleaner is amazing! It's lightweight, powerful, and the battery lasts a long time. I was able to clean my entire house on a single charge. The attachments are also very useful for getting into tight spaces. Highly recommended!\n",
        "Summary:\n",
        "\"\"\"\n",
        "\n",
        "few_shot_response = generate_response(few_shot_prompt)\n",
        "print(\"Few-Shot Response:\")\n",
        "print(few_shot_response)"
      ],
      "execution_count": 16,
      "outputs": [
        {
          "output_type": "stream",
          "name": "stdout",
          "text": [
            "Few-Shot Response:\n",
            "Lightweight, powerful vacuum with long battery life and useful attachments; highly recommended.\n"
          ]
        }
      ]
    },
    {
      "cell_type": "markdown",
      "source": [
        "## Self Reflexion"
      ],
      "metadata": {
        "id": "tYqFe1-ptNT5"
      }
    },
    {
      "cell_type": "code",
      "source": [
        "# Real-world example: Summarize a product review using Reflexion.\n",
        "\n",
        "# Initial prompt\n",
        "initial_review_prompt = \"Summarize the following product review:\\n\\nThis vacuum cleaner is amazing! It's lightweight, powerful, and the battery lasts a long time. I was able to clean my entire house on a single charge. The attachments are also very useful for getting into tight spaces. Highly recommended!\"\n",
        "\n",
        "initial_review_response = generate_response(initial_review_prompt)\n",
        "print(\"Initial Reflexion Response:\")\n",
        "print(initial_review_response)\n",
        "\n",
        "# Reflection prompt to improve the summary\n",
        "reflection_review_prompt = f\"\"\"\n",
        "Based on the following product review and the initial summary:\n",
        "\n",
        "Review: This vacuum cleaner is amazing! It's lightweight, powerful, and the battery lasts a long time. I was able to clean my entire house on a single charge. The attachments are also very useful for getting into tight spaces. Highly recommended!\n",
        "\n",
        "Initial Summary: {initial_review_response}\n",
        "\n",
        "Critique the initial summary. Does it capture all the key positive aspects mentioned in the review (lightweight, powerful, long battery life, useful attachments, highly recommended)? Suggest improvements to make the summary more comprehensive and accurate.\n",
        "\"\"\"\n",
        "\n",
        "reflection_on_review = generate_response(reflection_review_prompt)\n",
        "print(\"\\nReflection on Initial Response:\")\n",
        "print(reflection_on_review)\n",
        "\n",
        "# Refined prompt incorporating the reflection\n",
        "refined_review_prompt = f\"\"\"\n",
        "Based on the following product review and the critique of the initial summary, provide a refined and comprehensive summary:\n",
        "\n",
        "Review: This vacuum cleaner is amazing! It's lightweight, powerful, and the battery lasts a long time. I was able to clean my entire house on a single charge. The attachments are also very useful for getting into tight spaces. Highly recommended!\n",
        "\n",
        "Critique: {reflection_on_review}\n",
        "\n",
        "Refined Summary:\n",
        "\"\"\"\n",
        "\n",
        "refined_review_response = generate_response(refined_review_prompt)\n",
        "print(\"\\nRefined Reflexion Response:\")\n",
        "print(refined_review_response)"
      ],
      "metadata": {
        "colab": {
          "base_uri": "https://localhost:8080/"
        },
        "id": "MdQvV1OptXGe",
        "outputId": "f54f85b1-f919-4b46-bebb-6a0d9c25b4d0"
      },
      "execution_count": 17,
      "outputs": [
        {
          "output_type": "stream",
          "name": "stdout",
          "text": [
            "Initial Reflexion Response:\n",
            "The vacuum cleaner is lightweight, powerful, and has a long-lasting battery that can clean an entire house on one charge. Its useful attachments help reach tight spaces. Highly recommended.\n",
            "\n",
            "Reflection on Initial Response:\n",
            "The initial summary does a good job capturing the main positive aspects mentioned in the review: the vacuum cleaner being lightweight, powerful, having a long-lasting battery capable of cleaning an entire house on one charge, and the usefulness of the attachments for tight spaces. It also includes the strong recommendation from the reviewer.\n",
            "\n",
            "However, the summary could be improved by incorporating the sense of enthusiasm and specific praise about the battery life (\"I was able to clean my entire house on a single charge\") and explicitly mentioning that the vacuum is easy to use due to its lightweight design. Additionally, mentioning the variety or versatility of attachments could add clarity.\n",
            "\n",
            "Suggested improved summary:\n",
            "\n",
            "\"This vacuum cleaner is lightweight and easy to maneuver, yet powerful enough to clean an entire house on a single long-lasting\n",
            "\n",
            "Refined Reflexion Response:\n",
            "This vacuum cleaner is lightweight and easy to maneuver, making it simple to use throughout the home. It is powerful and features a long-lasting battery that allowed the reviewer to clean their entire house on a single charge. Additionally, the vacuum comes with a variety of versatile attachments that are especially useful for reaching tight spaces. Overall, the reviewer highly recommends this efficient and user-friendly vacuum cleaner.\n"
          ]
        }
      ]
    },
    {
      "cell_type": "markdown",
      "metadata": {
        "id": "e2f0ded4"
      },
      "source": [
        "## Chain of Thought Prompting"
      ]
    },
    {
      "cell_type": "code",
      "source": [
        "# Real-world example: Summarize a product review using Chain of Thought.\n",
        "\n",
        "chain_of_thought_prompt = \"\"\"\n",
        "Summarize the following product review, thinking step by step:\n",
        "\n",
        "Review: This vacuum cleaner is amazing! It's lightweight, powerful, and the battery lasts a long time. I was able to clean my entire house on a single charge. The attachments are also very useful for getting into tight spaces. Highly recommended!\n",
        "\n",
        "Let's think step by step to summarize this review.\n",
        "1. Identify the product being reviewed.\n",
        "2. List the positive and negative attributes mentioned about the product.\n",
        "3. Combine these attributes into a concise summary.\n",
        "\n",
        "Note: Write down your reasoning for each step inside <thought-process> Thougts </thought-process> tag.\n",
        "\n",
        "Summary:\n",
        "\"\"\"\n",
        "\n",
        "chain_of_thought_response = generate_response(chain_of_thought_prompt, max_tokens=300) # Increased max_tokens for detailed steps\n",
        "print(\"Chain of Thought Response:\")\n",
        "print(chain_of_thought_response)"
      ],
      "metadata": {
        "colab": {
          "base_uri": "https://localhost:8080/"
        },
        "id": "rsM6s_jfsduO",
        "outputId": "825fb6fb-9443-4e9d-fef4-0e2d21905309"
      },
      "execution_count": 18,
      "outputs": [
        {
          "output_type": "stream",
          "name": "stdout",
          "text": [
            "Chain of Thought Response:\n",
            "<thought-process> \n",
            "1. The product being reviewed is a vacuum cleaner. \n",
            "2. Positive attributes mentioned are: lightweight, powerful, long-lasting battery (able to clean entire house on one charge), and useful attachments for tight spaces. There are no negative attributes mentioned. \n",
            "3. Combining these points, the summary should highlight the vacuum cleaner's lightweight design, strong performance, excellent battery life, and versatile attachments, concluding with a positive recommendation. \n",
            "</thought-process>\n",
            "\n",
            "Summary: The vacuum cleaner is lightweight, powerful, has a long-lasting battery that can clean an entire house on one charge, and comes with useful attachments for tight spaces. It is highly recommended.\n"
          ]
        }
      ]
    },
    {
      "cell_type": "markdown",
      "metadata": {
        "id": "7d706558"
      },
      "source": [
        "## Tree of Thoughts Prompting"
      ]
    },
    {
      "cell_type": "code",
      "metadata": {
        "id": "784d307c",
        "colab": {
          "base_uri": "https://localhost:8080/"
        },
        "outputId": "ddc2cce6-8f83-4c57-fe81-a12ec0845a9d"
      },
      "source": [
        "# Real-world example: Summarize a product review using a simulated Tree of Thoughts.\n",
        "# Note: A true Tree of Thoughts implementation is more complex and would involve\n",
        "# exploring multiple reasoning paths and evaluating them. This is a simplified simulation.\n",
        "\n",
        "def tree_of_thoughts_prompting(initial_thought_prompt, expansion_prompt, evaluation_prompt, steps=2):\n",
        "    \"\"\"\n",
        "    Simulates a basic Tree of Thoughts approach.\n",
        "\n",
        "    Args:\n",
        "        initial_thought_prompt: The initial prompt to generate a starting thought.\n",
        "        expansion_prompt: Prompt to generate subsequent thoughts based on previous ones.\n",
        "        evaluation_prompt: Prompt to evaluate the generated thoughts.\n",
        "        steps: Number of expansion steps to simulate.\n",
        "\n",
        "    Returns:\n",
        "        The evaluated best thought or a summary of the process.\n",
        "    \"\"\"\n",
        "    try:\n",
        "        thoughts = [generate_response(initial_thought_prompt)]\n",
        "        print(\"Initial Thought:\", thoughts[0])\n",
        "\n",
        "        for step in range(steps):\n",
        "            new_thoughts = []\n",
        "            for thought in thoughts:\n",
        "                expansion_response = generate_response(f\"{expansion_prompt}\\n\\nPrevious thought: {thought}\")\n",
        "                # Simple split to simulate multiple thoughts\n",
        "                expanded_thoughts = [t.strip() for t in expansion_response.split('\\n') if t.strip()]\n",
        "                new_thoughts.extend(expanded_thoughts)\n",
        "            thoughts = new_thoughts\n",
        "            print(f\"\\nThoughts after step {step + 1}:\")\n",
        "            for i, thought in enumerate(thoughts):\n",
        "                print(f\"  Thought {i+1}: {thought}\")\n",
        "\n",
        "        # Simple evaluation: Ask the model to pick the best thought or summarize\n",
        "        evaluation_response = generate_response(f\"{evaluation_prompt}\\n\\nThoughts to evaluate:\\n\" + \"\\n\".join([f\"- {t}\" for t in thoughts]))\n",
        "\n",
        "        return evaluation_response\n",
        "\n",
        "    except Exception as e:\n",
        "        return f\"An error occurred: {e}\"\n",
        "\n",
        "# Example usage with the product review summarization\n",
        "initial_thought_prompt = \"Generate an initial thought about summarizing a product review.\"\n",
        "expansion_prompt = \"Expand on the following thought to generate alternative approaches for summarizing a product review.\"\n",
        "evaluation_prompt = \"Review the following thoughts for summarizing a product review and provide the best summary based on the original review: This vacuum cleaner is amazing! It's lightweight, powerful, and the battery lasts a long time. I was able to clean my entire house on a single charge. The attachments are also very useful for getting into tight spaces. Highly recommended!\"\n",
        "\n",
        "\n",
        "tree_of_thoughts_response = tree_of_thoughts_prompting(initial_thought_prompt, expansion_prompt, evaluation_prompt, steps=2)\n",
        "print(\"\\nTree of Thoughts Simulation Result:\")\n",
        "print(tree_of_thoughts_response)"
      ],
      "execution_count": 19,
      "outputs": [
        {
          "output_type": "stream",
          "name": "stdout",
          "text": [
            "Initial Thought: When summarizing a product review, it’s important to capture the overall sentiment—whether positive, negative, or mixed—while highlighting key points such as the product’s main features, performance, usability, and any common praises or complaints mentioned by the reviewer. This approach ensures the summary provides a clear and balanced snapshot for potential buyers.\n",
            "\n",
            "Thoughts after step 1:\n",
            "  Thought 1: Certainly! Expanding on the initial thought, here are several alternative approaches for summarizing a product review, each emphasizing different aspects or techniques to provide diverse perspectives and utility for potential buyers:\n",
            "  Thought 2: 1. **Feature-Centric Summary**\n",
            "  Thought 3: Focus primarily on the specific features of the product mentioned in the review, detailing how each feature performed or was perceived. This approach is useful when potential buyers are interested in particular functionalities rather than an overall sentiment.\n",
            "  Thought 4: *Example:* \"The reviewer praised the battery life and camera quality but found the touchscreen less responsive than expected.\"\n",
            "  Thought 5: 2. **Problem-Solution Summary**\n",
            "  Thought 6: Identify any problems or issues raised by the reviewer and note whether they found solutions or workarounds. This method can help potential buyers understand potential\n",
            "\n",
            "Thoughts after step 2:\n",
            "  Thought 1: Certainly! Expanding on the initial thought, here are several alternative approaches for summarizing a product review, each emphasizing different aspects or techniques to provide diverse perspectives and utility for potential buyers:\n",
            "  Thought 2: 1. **Feature-Focused Summary:**\n",
            "  Thought 3: Highlight the key features of the product mentioned in the review, emphasizing how well each feature performs according to the reviewer. This approach helps readers quickly understand the strengths and weaknesses related to specific product attributes.\n",
            "  Thought 4: 2. **Sentiment-Based Summary:**\n",
            "  Thought 5: Extract and distill the overall sentiment of the review—positive, negative, or neutral—while providing examples or quotes that illustrate the tone. This method is useful for readers who want a quick emotional gauge of the product experience.\n",
            "  Thought 6: 3. **Pros and Cons List:**\n",
            "  Thought 7: Certainly! Building upon the **Feature-Centric Summary** approach for summarizing product reviews, here are several alternative approaches, each focusing on different aspects or techniques to create concise and informative summaries:\n",
            "  Thought 8: ---\n",
            "  Thought 9: ### 1. Feature-Centric Summary (Original)\n",
            "  Thought 10: - Focus on key product features mentioned in the reviews (e.g., battery life, screen quality, durability).\n",
            "  Thought 11: - Summarize opinions and sentiments related to each feature.\n",
            "  Thought 12: - Example: \"Users praise the long battery life and vibrant display but express concerns over the fragile build.\"\n",
            "  Thought 13: ---\n",
            "  Thought 14: ### 2. Sentiment-Centric Summary\n",
            "  Thought 15: - Aggregate overall sentiment (positive, neutral, negative) expressed in reviews.\n",
            "  Thought 16: - Highlight the general mood or attitude customers have toward the product.\n",
            "  Thought 17: - Example: \"Most reviews\n",
            "  Thought 18: Certainly! Building on the idea of focusing on specific product features in a review summary, here are several alternative approaches that can be employed to summarize product reviews, each tailored to different user needs or contexts:\n",
            "  Thought 19: 1. **Sentiment-Centric Summary**\n",
            "  Thought 20: Instead of detailing individual features, this approach emphasizes the overall positive, neutral, or negative sentiment expressed in the review. It captures the general feeling and satisfaction level of the reviewer, which is helpful for buyers who want a quick sense of whether the product is liked or disliked without diving into specifics.\n",
            "  Thought 21: 2. **Use-Case or Scenario-Based Summary**\n",
            "  Thought 22: Summarize the review by highlighting how the product performed in particular use cases or environments described by the reviewer. For example, a camera review\n",
            "  Thought 23: Certainly! Here are several alternative approaches to summarizing a product review based on the given example:\n",
            "  Thought 24: 1. **Pros and Cons Format:**\n",
            "  Thought 25: - *Pros:* Excellent battery life, high-quality camera\n",
            "  Thought 26: - *Cons:* Touchscreen responsiveness below expectations\n",
            "  Thought 27: 2. **Balanced Sentence Summary:**\n",
            "  Thought 28: The reviewer appreciated the device’s long-lasting battery and impressive camera performance, though they were disappointed by the touchscreen’s sluggish response.\n",
            "  Thought 29: 3. **Feature-by-Feature Breakdown:**\n",
            "  Thought 30: The battery life stood out as a strong point, providing extended usage without frequent recharging. The camera delivered sharp and vibrant images, enhancing photography experiences. However, the touchscreen did not respond as quickly or accurately as the reviewer had hoped.\n",
            "  Thought 31: 4. **Emotional Tone\n",
            "  Thought 32: Certainly! Building on the **Problem-Solution Summary** approach for summarizing a product review, here are several alternative approaches that can provide different perspectives or highlight various aspects of the review:\n",
            "  Thought 33: 1. **Feature-Benefit Summary**\n",
            "  Thought 34: - Focus on key product features mentioned in the review and the benefits they provide to the user.\n",
            "  Thought 35: - For example, instead of centering on problems, highlight what features stood out and why they are valuable.\n",
            "  Thought 36: 2. **Pros and Cons Summary**\n",
            "  Thought 37: - Divide the summary into two sections: positive aspects and negative aspects noted in the review.\n",
            "  Thought 38: - This balanced approach helps readers quickly assess strengths and weaknesses.\n",
            "  Thought 39: 3. **User Experience Summary**\n",
            "  Thought 40: - Emphasize the user’s overall\n",
            "  Thought 41: Certainly! Expanding on the idea of identifying problems or issues raised by a reviewer and noting if they found solutions or workarounds, here are several alternative approaches for summarizing a product review that can provide potential buyers with a well-rounded understanding:\n",
            "  Thought 42: 1. **Pros and Cons Highlighting**\n",
            "  Thought 43: Break down the review into clear pros and cons sections. Emphasize not only the problems or issues but also the positive aspects. This approach helps buyers quickly weigh the benefits against the drawbacks.\n",
            "  Thought 44: 2. **Problem-Solution Format**\n",
            "  Thought 45: Organize the summary by listing each problem mentioned followed immediately by any solutions, fixes, or workarounds the reviewer found. This format is especially useful for technical products or items that may require troubleshooting.\n",
            "  Thought 46: 3.\n",
            "\n",
            "Tree of Thoughts Simulation Result:\n",
            "Based on the original review and the various summarization approaches discussed, the best summary should concisely highlight the key positive features and the overall enthusiastic sentiment, as no negatives were mentioned. A feature-benefit style with a positive tone suits the review well.\n",
            "\n",
            "**Best Summary:**\n",
            "\n",
            "This lightweight and powerful vacuum cleaner offers long-lasting battery life, allowing a full house cleaning on a single charge. Its versatile attachments make reaching tight spaces easy, making it a highly recommended and efficient cleaning tool.\n"
          ]
        }
      ]
    },
    {
      "cell_type": "markdown",
      "metadata": {
        "id": "5c83c571"
      },
      "source": [
        "## Meta Prompting"
      ]
    },
    {
      "cell_type": "code",
      "metadata": {
        "id": "00d6a430",
        "colab": {
          "base_uri": "https://localhost:8080/"
        },
        "outputId": "e1680537-b6f7-4d38-f73f-a74a8a720b47"
      },
      "source": [
        "# Real-world example: Summarize a product review using Meta Prompting.\n",
        "\n",
        "meta_prompt = \"\"\"\n",
        "You are an expert in summarizing product reviews. Your goal is to provide a concise and informative summary of the given review, focusing only on the key positive and negative aspects mentioned.\n",
        "\n",
        "Here is the product review:\n",
        "Review: This vacuum cleaner is amazing! It's lightweight, powerful, and the battery lasts a long time. I was able to clean my entire house on a single charge. The attachments are also very useful for getting into tight spaces. Highly recommended!\n",
        "\n",
        "Provide the summary in the following format:\n",
        "Summary: [Your concise summary here]\n",
        "\"\"\"\n",
        "\n",
        "meta_prompt_response = generate_response(meta_prompt)\n",
        "print(\"Meta Prompting Response:\")\n",
        "print(meta_prompt_response)"
      ],
      "execution_count": 13,
      "outputs": [
        {
          "output_type": "stream",
          "name": "stdout",
          "text": [
            "Meta Prompting Response:\n",
            "Summary: The vacuum cleaner is lightweight, powerful, with a long-lasting battery. Attachments are useful for tight spaces. Highly recommended.\n"
          ]
        }
      ]
    }
  ]
}